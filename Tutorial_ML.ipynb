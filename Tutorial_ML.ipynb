{
  "nbformat": 4,
  "nbformat_minor": 0,
  "metadata": {
    "colab": {
      "name": "Copy of Untitled2.ipynb",
      "provenance": [],
      "authorship_tag": "ABX9TyPH4x45UyO4FSrcGesq2prc",
      "include_colab_link": true
    },
    "kernelspec": {
      "name": "python3",
      "display_name": "Python 3"
    },
    "language_info": {
      "name": "python"
    }
  },
  "cells": [
    {
      "cell_type": "markdown",
      "metadata": {
        "id": "view-in-github",
        "colab_type": "text"
      },
      "source": [
        "<a href=\"https://colab.research.google.com/github/anmolecule/Tutorial_ML/blob/main/Tutorial_ML.ipynb\" target=\"_parent\"><img src=\"https://colab.research.google.com/assets/colab-badge.svg\" alt=\"Open In Colab\"/></a>"
      ]
    },
    {
      "cell_type": "code",
      "metadata": {
        "id": "A9dvdF5xw91t"
      },
      "source": [
        "import numpy as np"
      ],
      "execution_count": 7,
      "outputs": []
    },
    {
      "cell_type": "code",
      "metadata": {
        "colab": {
          "base_uri": "https://localhost:8080/"
        },
        "id": "1WOS81u1xEaj",
        "outputId": "f4cf7088-f782-4ed8-864f-b6da5dcd7567"
      },
      "source": [
        "arr=[1.2, 2.4, 3.5, 4.7, 6.1, 7.2, 8.3, 9.5]\n",
        "nparr=np.array(arr)\n",
        "nparr"
      ],
      "execution_count": null,
      "outputs": [
        {
          "output_type": "execute_result",
          "data": {
            "text/plain": [
              "array([1.2, 2.4, 3.5, 4.7, 6.1, 7.2, 8.3, 9.5])"
            ]
          },
          "metadata": {},
          "execution_count": 3
        }
      ]
    },
    {
      "cell_type": "code",
      "metadata": {
        "colab": {
          "base_uri": "https://localhost:8080/"
        },
        "id": "3CwiBs2UxU4d",
        "outputId": "5db15cc2-45d3-413c-aa71-97955bb6f51a"
      },
      "source": [
        "brr=[[6, 5], [11, 7], [4, 8]]\n",
        "npbrr=np.array(brr)\n",
        "npbrr"
      ],
      "execution_count": null,
      "outputs": [
        {
          "output_type": "execute_result",
          "data": {
            "text/plain": [
              "array([[ 6,  5],\n",
              "       [11,  7],\n",
              "       [ 4,  8]])"
            ]
          },
          "metadata": {},
          "execution_count": 4
        }
      ]
    },
    {
      "cell_type": "code",
      "metadata": {
        "colab": {
          "base_uri": "https://localhost:8080/"
        },
        "id": "EOZvayhhxo4i",
        "outputId": "fe4669c8-ec55-416e-f4e3-1492a32aa492"
      },
      "source": [
        "np.zeros(10)"
      ],
      "execution_count": null,
      "outputs": [
        {
          "output_type": "execute_result",
          "data": {
            "text/plain": [
              "array([0., 0., 0., 0., 0., 0., 0., 0., 0., 0.])"
            ]
          },
          "metadata": {},
          "execution_count": 5
        }
      ]
    },
    {
      "cell_type": "code",
      "metadata": {
        "colab": {
          "base_uri": "https://localhost:8080/"
        },
        "id": "P34qJpfFx2fB",
        "outputId": "654137ea-9693-4514-88fc-b5cfd02f0eb0"
      },
      "source": [
        "np.zeros((3,2))"
      ],
      "execution_count": null,
      "outputs": [
        {
          "output_type": "execute_result",
          "data": {
            "text/plain": [
              "array([[0., 0.],\n",
              "       [0., 0.],\n",
              "       [0., 0.]])"
            ]
          },
          "metadata": {},
          "execution_count": 7
        }
      ]
    },
    {
      "cell_type": "code",
      "metadata": {
        "colab": {
          "base_uri": "https://localhost:8080/"
        },
        "id": "ahrrwOZvyDB3",
        "outputId": "6d6f8e71-7ac2-4c27-ee1e-f37d5afb7d34"
      },
      "source": [
        "np.ones(10)"
      ],
      "execution_count": null,
      "outputs": [
        {
          "output_type": "execute_result",
          "data": {
            "text/plain": [
              "array([1., 1., 1., 1., 1., 1., 1., 1., 1., 1.])"
            ]
          },
          "metadata": {},
          "execution_count": 8
        }
      ]
    },
    {
      "cell_type": "code",
      "metadata": {
        "colab": {
          "base_uri": "https://localhost:8080/"
        },
        "id": "bKBBZDHDyKnt",
        "outputId": "b2282650-e322-4b04-9f2a-ff0035ab9468"
      },
      "source": [
        "np.arange(0,10)"
      ],
      "execution_count": null,
      "outputs": [
        {
          "output_type": "execute_result",
          "data": {
            "text/plain": [
              "array([0, 1, 2, 3, 4, 5, 6, 7, 8, 9])"
            ]
          },
          "metadata": {},
          "execution_count": 9
        }
      ]
    },
    {
      "cell_type": "code",
      "metadata": {
        "colab": {
          "base_uri": "https://localhost:8080/"
        },
        "id": "B00cUGpXyPET",
        "outputId": "1d870f32-a13b-48fe-dabe-6fe1c98413ce"
      },
      "source": [
        "np.arange(0,10,2)"
      ],
      "execution_count": null,
      "outputs": [
        {
          "output_type": "execute_result",
          "data": {
            "text/plain": [
              "array([0, 2, 4, 6, 8])"
            ]
          },
          "metadata": {},
          "execution_count": 10
        }
      ]
    },
    {
      "cell_type": "code",
      "metadata": {
        "colab": {
          "base_uri": "https://localhost:8080/"
        },
        "id": "bwcioab0ybbo",
        "outputId": "30ee3944-b84e-477a-9161-e0ad1d89cef8"
      },
      "source": [
        "np.random.randint(low=1, high=101, size=(10))"
      ],
      "execution_count": null,
      "outputs": [
        {
          "output_type": "execute_result",
          "data": {
            "text/plain": [
              "array([58, 15, 49, 72, 62, 51,  4, 68, 67, 47])"
            ]
          },
          "metadata": {},
          "execution_count": 11
        }
      ]
    },
    {
      "cell_type": "code",
      "metadata": {
        "colab": {
          "base_uri": "https://localhost:8080/"
        },
        "id": "In7XIu4Jys3Z",
        "outputId": "300612e8-7173-4994-94d7-de232c898caa"
      },
      "source": [
        "np.random.random(10) "
      ],
      "execution_count": null,
      "outputs": [
        {
          "output_type": "execute_result",
          "data": {
            "text/plain": [
              "array([0.84993359, 0.51798265, 0.28793806, 0.06304832, 0.46509094,\n",
              "       0.51544882, 0.56747853, 0.1148981 , 0.52751612, 0.60142602])"
            ]
          },
          "metadata": {},
          "execution_count": 13
        }
      ]
    },
    {
      "cell_type": "code",
      "metadata": {
        "colab": {
          "base_uri": "https://localhost:8080/"
        },
        "id": "iGL3MjL8zeOd",
        "outputId": "de8371c4-fc22-4d3f-ae21-dd7f3da374a9"
      },
      "source": [
        "# Scale between 3 to 5\n",
        "np.random.random(10)*(5-3)+3"
      ],
      "execution_count": null,
      "outputs": [
        {
          "output_type": "execute_result",
          "data": {
            "text/plain": [
              "array([4.96130108, 3.8366504 , 3.88346679, 3.25660352, 4.86362136,\n",
              "       3.0168579 , 4.69233204, 4.01678198, 3.38208131, 4.91245235])"
            ]
          },
          "metadata": {},
          "execution_count": 17
        }
      ]
    },
    {
      "cell_type": "code",
      "metadata": {
        "id": "wW0BK9gi7x-E"
      },
      "source": [
        "#Generalize the above formula \n",
        "#Scale a random number, r generate between ra and rb to a random number between a and b. Assume b>a and rb>ra"
      ],
      "execution_count": null,
      "outputs": []
    },
    {
      "cell_type": "code",
      "metadata": {
        "id": "UQNpz1OukDKb"
      },
      "source": [
        "import pandas as pd"
      ],
      "execution_count": 8,
      "outputs": []
    },
    {
      "cell_type": "code",
      "metadata": {
        "id": "XbtnwZq6kIn1",
        "outputId": "3fa4e06a-8edc-4e6e-ec2c-b77fb7d557b0",
        "colab": {
          "base_uri": "https://localhost:8080/"
        }
      },
      "source": [
        "# Create and populate a 5x2 NumPy array.\n",
        "my_data = np.array([[0, 3], [10, 7], [20, 9], [30, 14], [40, 15]])\n",
        "\n",
        "# Create a Python list that holds the names of the two columns.\n",
        "my_column_names = ['temperature', 'activity']\n",
        "\n",
        "# Create a DataFrame.\n",
        "my_dataframe = pd.DataFrame(data=my_data, columns=my_column_names)\n",
        "\n",
        "# Print the entire DataFrame\n",
        "print(my_dataframe)"
      ],
      "execution_count": 9,
      "outputs": [
        {
          "output_type": "stream",
          "name": "stdout",
          "text": [
            "   temperature  activity\n",
            "0            0         3\n",
            "1           10         7\n",
            "2           20         9\n",
            "3           30        14\n",
            "4           40        15\n"
          ]
        }
      ]
    },
    {
      "cell_type": "code",
      "metadata": {
        "id": "RYJIk631kcHd",
        "outputId": "18a00069-1a2d-4c26-ac57-0eb88c187882",
        "colab": {
          "base_uri": "https://localhost:8080/"
        }
      },
      "source": [
        "# Create a new column named adjusted.\n",
        "my_dataframe[\"adjusted\"] = my_dataframe[\"activity\"] + 2\n",
        "\n",
        "# Print the entire DataFrame\n",
        "print(my_dataframe)"
      ],
      "execution_count": 10,
      "outputs": [
        {
          "output_type": "stream",
          "name": "stdout",
          "text": [
            "   temperature  activity  adjusted\n",
            "0            0         3         5\n",
            "1           10         7         9\n",
            "2           20         9        11\n",
            "3           30        14        16\n",
            "4           40        15        17\n"
          ]
        }
      ]
    },
    {
      "cell_type": "code",
      "metadata": {
        "id": "fOL5y7uAky__",
        "outputId": "32d65016-3f07-4b37-d91e-2c9d547601ef",
        "colab": {
          "base_uri": "https://localhost:8080/"
        }
      },
      "source": [
        "print(\"Rows #0, #1, and #2:\")\n",
        "print(my_dataframe.head(3), '\\n')\n",
        "\n",
        "print(\"Row #2:\")\n",
        "print(my_dataframe.iloc[[2]], '\\n')\n",
        "\n",
        "print(\"Rows #1, #2, and #3:\")\n",
        "print(my_dataframe[1:4], '\\n')\n",
        "\n",
        "print(\"Column 'temperature':\")\n",
        "print(my_dataframe['temperature'])"
      ],
      "execution_count": 11,
      "outputs": [
        {
          "output_type": "stream",
          "name": "stdout",
          "text": [
            "Rows #0, #1, and #2:\n",
            "   temperature  activity  adjusted\n",
            "0            0         3         5\n",
            "1           10         7         9\n",
            "2           20         9        11 \n",
            "\n",
            "Row #2:\n",
            "   temperature  activity  adjusted\n",
            "2           20         9        11 \n",
            "\n",
            "Rows #1, #2, and #3:\n",
            "   temperature  activity  adjusted\n",
            "1           10         7         9\n",
            "2           20         9        11\n",
            "3           30        14        16 \n",
            "\n",
            "Column 'temperature':\n",
            "0     0\n",
            "1    10\n",
            "2    20\n",
            "3    30\n",
            "4    40\n",
            "Name: temperature, dtype: int64\n"
          ]
        }
      ]
    },
    {
      "cell_type": "code",
      "metadata": {
        "id": "ru7I-piOnAM8"
      },
      "source": [
        "df = pd.DataFrame([[1, 2], [4, 5], [7, 8]],\n",
        "     index=['cobra', 'viper', 'sidewinder'],\n",
        "     columns=['max_speed', 'shield'])\n"
      ],
      "execution_count": 16,
      "outputs": []
    },
    {
      "cell_type": "code",
      "metadata": {
        "id": "x-jBrMO6nP2g",
        "outputId": "6e9c35be-9cad-4726-c977-d2725469ca55",
        "colab": {
          "base_uri": "https://localhost:8080/"
        }
      },
      "source": [
        "df.loc['cobra', 'shield']"
      ],
      "execution_count": 17,
      "outputs": [
        {
          "output_type": "execute_result",
          "data": {
            "text/plain": [
              "2"
            ]
          },
          "metadata": {},
          "execution_count": 17
        }
      ]
    },
    {
      "cell_type": "code",
      "metadata": {
        "id": "lwFQVAu3nObf",
        "outputId": "65cc0007-8056-40c3-c98b-373109de73df",
        "colab": {
          "base_uri": "https://localhost:8080/",
          "height": 111
        }
      },
      "source": [
        "df.loc[['viper', 'sidewinder']]\n"
      ],
      "execution_count": 18,
      "outputs": [
        {
          "output_type": "execute_result",
          "data": {
            "text/html": [
              "<div>\n",
              "<style scoped>\n",
              "    .dataframe tbody tr th:only-of-type {\n",
              "        vertical-align: middle;\n",
              "    }\n",
              "\n",
              "    .dataframe tbody tr th {\n",
              "        vertical-align: top;\n",
              "    }\n",
              "\n",
              "    .dataframe thead th {\n",
              "        text-align: right;\n",
              "    }\n",
              "</style>\n",
              "<table border=\"1\" class=\"dataframe\">\n",
              "  <thead>\n",
              "    <tr style=\"text-align: right;\">\n",
              "      <th></th>\n",
              "      <th>max_speed</th>\n",
              "      <th>shield</th>\n",
              "    </tr>\n",
              "  </thead>\n",
              "  <tbody>\n",
              "    <tr>\n",
              "      <th>viper</th>\n",
              "      <td>4</td>\n",
              "      <td>5</td>\n",
              "    </tr>\n",
              "    <tr>\n",
              "      <th>sidewinder</th>\n",
              "      <td>7</td>\n",
              "      <td>8</td>\n",
              "    </tr>\n",
              "  </tbody>\n",
              "</table>\n",
              "</div>"
            ],
            "text/plain": [
              "            max_speed  shield\n",
              "viper               4       5\n",
              "sidewinder          7       8"
            ]
          },
          "metadata": {},
          "execution_count": 18
        }
      ]
    },
    {
      "cell_type": "markdown",
      "metadata": {
        "id": "9eoFTvV0lw_5"
      },
      "source": [
        "# Minimizing loss function using gradient descent"
      ]
    },
    {
      "cell_type": "code",
      "metadata": {
        "id": "IdJCKVMMB76T"
      },
      "source": [
        "def loss(theta,X,y):\n",
        "    '''\n",
        "    Calculate loss.\n",
        "    Parameters:\n",
        "      X: Input array\n",
        "      y: Output array\n",
        "      theta: coefficients (weights)\n",
        "    Returns:\n",
        "      l: Loss \n",
        "    '''\n",
        "    # Calculating Loss\n",
        "    l = (1/2*len(y)) * np.sum(np.square((X.dot(theta))-y))  \n",
        "    return l\n"
      ],
      "execution_count": null,
      "outputs": []
    },
    {
      "cell_type": "code",
      "metadata": {
        "id": "4qiYQ0D7pqCb"
      },
      "source": [
        "def gradient_descent(X,y,theta,alpha,iterations):\n",
        "    '''\n",
        "    Parameters:\n",
        "      X: Input matrix with added bias.\n",
        "      y: target variable matrix\n",
        "      theta: regression coefficients\n",
        "      alpha: learning rate\n",
        "      iteration: number of iteration to be run\n",
        "    Returns \n",
        "      theta: Updated theta\n",
        "      loss: Cost\n",
        "    '''\n",
        "    #Getting number of observations.\n",
        "    m = len(y)\n",
        "    \n",
        "    # Initializing loss and theta's arrays with zeroes.\n",
        "    thetas = np.zeros((iterations,2))\n",
        "    losses = np.zeros(iterations)\n",
        "    niter=None\n",
        "    # Calculating theta for every iteration.\n",
        "    for i in range(iterations):\n",
        "            theta = theta - (1/m)*alpha*(X.T.dot((X.dot(theta))-y))\n",
        "            thetas[i,:] = theta.T\n",
        "            newloss=loss(theta,X,y)\n",
        "            if i> 1:\n",
        "                tol=newloss-losses[i-1]\n",
        "                if abs(tol)<0.0001: \n",
        "                    niter=i\n",
        "                    break\n",
        "            losses[i] = newloss\n",
        "            \n",
        "    return theta,thetas,losses,niter\n"
      ],
      "execution_count": null,
      "outputs": []
    },
    {
      "cell_type": "code",
      "metadata": {
        "colab": {
          "base_uri": "https://localhost:8080/",
          "height": 329
        },
        "id": "e08VMe96tKVn",
        "outputId": "8ddd9d02-2188-4961-d678-6bd3a0706656"
      },
      "source": [
        "import matplotlib.pyplot as plt\n",
        "# Generating Randomized dataset\n",
        "X = 3*np.random.rand(100,1)\n",
        "y = 9 + 2*X+np.random.rand(100,1)\n",
        "# Scatter plot\n",
        "plt.scatter(X,y)\n",
        "plt.xlabel('X')\n",
        "plt.ylabel('y')\n",
        "plt.title('X vs y')\n",
        "plt.figure(figsize=(15,25))"
      ],
      "execution_count": 4,
      "outputs": [
        {
          "output_type": "execute_result",
          "data": {
            "text/plain": [
              "<Figure size 1080x1800 with 0 Axes>"
            ]
          },
          "metadata": {},
          "execution_count": 4
        },
        {
          "output_type": "display_data",
          "data": {
            "image/png": "[encoded data removed]",
            "text/plain": [
              "<Figure size 432x288 with 1 Axes>"
            ]
          },
          "metadata": {
            "needs_background": "light"
          }
        },
        {
          "output_type": "display_data",
          "data": {
            "text/plain": [
              "<Figure size 1080x1800 with 0 Axes>"
            ]
          },
          "metadata": {}
        }
      ]
    },
    {
      "cell_type": "code",
      "metadata": {
        "id": "VGB-zmL9pswJ"
      },
      "source": [
        "# Learning Rate  # Change \n",
        "alpha = 0.4\n",
        "# Number of iterations  # Change the number \n",
        "max_iterations = 30000\n"
      ],
      "execution_count": null,
      "outputs": []
    },
    {
      "cell_type": "code",
      "metadata": {
        "colab": {
          "base_uri": "https://localhost:8080/"
        },
        "id": "GicjGQl-uKp7",
        "outputId": "12f696dc-01d9-435e-b25b-fa47ddd0c38b"
      },
      "source": [
        "# Initializing a random value to give algorithm a base value. Theta0: bias (intercept) Theta1: weight (slope)\n",
        "theta = np.random.randn(2,1)\n",
        "print (theta)"
      ],
      "execution_count": null,
      "outputs": [
        {
          "output_type": "stream",
          "name": "stdout",
          "text": [
            "[[ 0.07332808]\n",
            " [-1.17809403]]\n"
          ]
        }
      ]
    },
    {
      "cell_type": "code",
      "metadata": {
        "colab": {
          "base_uri": "https://localhost:8080/"
        },
        "id": "dSatP74usl39",
        "outputId": "addceff5-9c46-4571-c702-bfd5cc90bef3"
      },
      "source": [
        "# Adding a biasing constant of value 1 to the features array.\n",
        "X_bias = np.c_[np.ones((len(X),1)),X]\n",
        "# Running Gradient Descent\n",
        "theta,thetas,losses,niter = gradient_descent(X_bias,y,theta,alpha,max_iterations)\n",
        "# printing final values.\n",
        "print('Final Theta 0 value: {:0.3f}\\nFinal Theta 1 value: {:0.3f}'.format(theta[0][0],theta[1][0]))\n",
        "print('Final Cost/MSE(L2 Loss) Value: {:0.3f} acheived in {:5f}'.format(losses[-1],niter))"
      ],
      "execution_count": null,
      "outputs": [
        {
          "output_type": "stream",
          "name": "stdout",
          "text": [
            "Final Theta 0 value: 9.410\n",
            "Final Theta 1 value: 2.040\n",
            "Final Cost/MSE(L2 Loss) Value: 0.000 acheived in 110.000000\n"
          ]
        }
      ]
    },
    {
      "cell_type": "markdown",
      "metadata": {
        "id": "zG3isAQTlf1u"
      },
      "source": [
        "# Create Model using LinearRegression in sklearn"
      ]
    },
    {
      "cell_type": "code",
      "metadata": {
        "id": "0XPEc1QK5NxX",
        "colab": {
          "base_uri": "https://localhost:8080/"
        },
        "outputId": "1a88433a-306d-4fb5-9208-d7466f68ede6"
      },
      "source": [
        "from sklearn.linear_model import LinearRegression\n",
        "reg = LinearRegression().fit(X, y)\n",
        "reg.score(X, y)"
      ],
      "execution_count": 12,
      "outputs": [
        {
          "output_type": "execute_result",
          "data": {
            "text/plain": [
              "0.9761404283106984"
            ]
          },
          "metadata": {},
          "execution_count": 12
        }
      ]
    },
    {
      "cell_type": "code",
      "metadata": {
        "id": "sMzUQOiX5QmK",
        "colab": {
          "base_uri": "https://localhost:8080/"
        },
        "outputId": "655029c1-cad9-44c6-88a6-f249d1260f17"
      },
      "source": [
        "reg.coef_"
      ],
      "execution_count": 13,
      "outputs": [
        {
          "output_type": "execute_result",
          "data": {
            "text/plain": [
              "array([[2.0420018]])"
            ]
          },
          "metadata": {},
          "execution_count": 13
        }
      ]
    },
    {
      "cell_type": "code",
      "metadata": {
        "id": "gjVq4ewR5SSo",
        "colab": {
          "base_uri": "https://localhost:8080/"
        },
        "outputId": "8801e56a-5787-427a-a4c2-bbb6caa46acd"
      },
      "source": [
        "reg.intercept_"
      ],
      "execution_count": 14,
      "outputs": [
        {
          "output_type": "execute_result",
          "data": {
            "text/plain": [
              "array([9.41070304])"
            ]
          },
          "metadata": {},
          "execution_count": 14
        }
      ]
    },
    {
      "cell_type": "code",
      "metadata": {
        "id": "-mfs3ou85UoL",
        "colab": {
          "base_uri": "https://localhost:8080/"
        },
        "outputId": "b5b46387-207a-4abe-f025-d6cd349c963b"
      },
      "source": [
        "reg.predict(np.array([[3]]))\n"
      ],
      "execution_count": 15,
      "outputs": [
        {
          "output_type": "execute_result",
          "data": {
            "text/plain": [
              "array([[15.53670844]])"
            ]
          },
          "metadata": {},
          "execution_count": 15
        }
      ]
    },
    {
      "cell_type": "markdown",
      "metadata": {
        "id": "OdlEjbw2lMeL"
      },
      "source": [
        "# Test Train Split"
      ]
    },
    {
      "cell_type": "code",
      "metadata": {
        "id": "W7JS8rXgKyyF"
      },
      "source": [
        "from sklearn.model_selection import train_test_split\n",
        "X, y = np.arange(100).reshape((50, 2)), range(50)"
      ],
      "execution_count": null,
      "outputs": []
    },
    {
      "cell_type": "code",
      "metadata": {
        "id": "Oc_kC75yLKXO",
        "colab": {
          "base_uri": "https://localhost:8080/"
        },
        "outputId": "9ff7ad5b-5464-47ee-ce3e-bb91c30f581a"
      },
      "source": [
        "X_train, X_test, y_train, y_test = train_test_split(X, y, test_size=0.20, random_state=42)\n",
        "X_test"
      ],
      "execution_count": null,
      "outputs": [
        {
          "output_type": "execute_result",
          "data": {
            "text/plain": [
              "array([[26, 27],\n",
              "       [78, 79],\n",
              "       [60, 61],\n",
              "       [90, 91],\n",
              "       [34, 35],\n",
              "       [96, 97],\n",
              "       [52, 53],\n",
              "       [50, 51],\n",
              "       [64, 65],\n",
              "       [38, 39]])"
            ]
          },
          "metadata": {},
          "execution_count": 101
        }
      ]
    },
    {
      "cell_type": "markdown",
      "metadata": {
        "id": "rSpdWF-2lSG0"
      },
      "source": [
        "# Test Train Validation Split"
      ]
    },
    {
      "cell_type": "code",
      "metadata": {
        "id": "IGCcqWCXL-f_"
      },
      "source": [
        " X_train, X_val, y_train, y_val = train_test_split(X_train, y_train, test_size=0.25, random_state=1)"
      ],
      "execution_count": null,
      "outputs": []
    },
    {
      "cell_type": "markdown",
      "metadata": {
        "id": "fwF6bQwNlCHw"
      },
      "source": [
        "# Use L2 Regularization"
      ]
    },
    {
      "cell_type": "code",
      "metadata": {
        "id": "8BEm9w_fhThg",
        "outputId": "9049e63a-6604-410e-8926-7f135912aef8",
        "colab": {
          "base_uri": "https://localhost:8080/"
        }
      },
      "source": [
        "from sklearn.linear_model import Ridge\n",
        "clf = Ridge(alpha=1.0)\n",
        "clf.fit(X, y)\n",
        "clf.predict(np.array([[3]]))"
      ],
      "execution_count": 6,
      "outputs": [
        {
          "output_type": "execute_result",
          "data": {
            "text/plain": [
              "array([[15.49620993]])"
            ]
          },
          "metadata": {},
          "execution_count": 6
        }
      ]
    }
  ]
}