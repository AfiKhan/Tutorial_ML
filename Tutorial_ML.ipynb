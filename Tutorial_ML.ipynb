{
  "nbformat": 4,
  "nbformat_minor": 0,
  "metadata": {
    "colab": {
      "name": "Copy of Untitled2.ipynb",
      "provenance": [],
      "authorship_tag": "ABX9TyP6MZpG2NlOWqTbTWq+JOx9",
      "include_colab_link": true
    },
    "kernelspec": {
      "name": "python3",
      "display_name": "Python 3"
    },
    "language_info": {
      "name": "python"
    }
  },
  "cells": [
    {
      "cell_type": "markdown",
      "metadata": {
        "id": "view-in-github",
        "colab_type": "text"
      },
      "source": [
        "<a href=\"https://colab.research.google.com/github/anmolecule/Tutorial_ML/blob/main/Tutorial_ML.ipynb\" target=\"_parent\"><img src=\"https://colab.research.google.com/assets/colab-badge.svg\" alt=\"Open In Colab\"/></a>"
      ]
    },
    {
      "cell_type": "code",
      "metadata": {
        "id": "A9dvdF5xw91t"
      },
      "source": [
        "import numpy as np\n",
        "import pandas as pd"
      ],
      "execution_count": 4,
      "outputs": []
    },
    {
      "cell_type": "code",
      "metadata": {
        "colab": {
          "base_uri": "https://localhost:8080/"
        },
        "id": "1WOS81u1xEaj",
        "outputId": "f4cf7088-f782-4ed8-864f-b6da5dcd7567"
      },
      "source": [
        "arr=[1.2, 2.4, 3.5, 4.7, 6.1, 7.2, 8.3, 9.5]\n",
        "nparr=np.array(arr)\n",
        "nparr"
      ],
      "execution_count": null,
      "outputs": [
        {
          "output_type": "execute_result",
          "data": {
            "text/plain": [
              "array([1.2, 2.4, 3.5, 4.7, 6.1, 7.2, 8.3, 9.5])"
            ]
          },
          "metadata": {},
          "execution_count": 3
        }
      ]
    },
    {
      "cell_type": "code",
      "metadata": {
        "colab": {
          "base_uri": "https://localhost:8080/"
        },
        "id": "3CwiBs2UxU4d",
        "outputId": "5db15cc2-45d3-413c-aa71-97955bb6f51a"
      },
      "source": [
        "brr=[[6, 5], [11, 7], [4, 8]]\n",
        "npbrr=np.array(brr)\n",
        "npbrr"
      ],
      "execution_count": null,
      "outputs": [
        {
          "output_type": "execute_result",
          "data": {
            "text/plain": [
              "array([[ 6,  5],\n",
              "       [11,  7],\n",
              "       [ 4,  8]])"
            ]
          },
          "metadata": {},
          "execution_count": 4
        }
      ]
    },
    {
      "cell_type": "code",
      "metadata": {
        "colab": {
          "base_uri": "https://localhost:8080/"
        },
        "id": "EOZvayhhxo4i",
        "outputId": "fe4669c8-ec55-416e-f4e3-1492a32aa492"
      },
      "source": [
        "np.zeros(10)"
      ],
      "execution_count": null,
      "outputs": [
        {
          "output_type": "execute_result",
          "data": {
            "text/plain": [
              "array([0., 0., 0., 0., 0., 0., 0., 0., 0., 0.])"
            ]
          },
          "metadata": {},
          "execution_count": 5
        }
      ]
    },
    {
      "cell_type": "code",
      "metadata": {
        "colab": {
          "base_uri": "https://localhost:8080/"
        },
        "id": "P34qJpfFx2fB",
        "outputId": "654137ea-9693-4514-88fc-b5cfd02f0eb0"
      },
      "source": [
        "np.zeros((3,2))"
      ],
      "execution_count": null,
      "outputs": [
        {
          "output_type": "execute_result",
          "data": {
            "text/plain": [
              "array([[0., 0.],\n",
              "       [0., 0.],\n",
              "       [0., 0.]])"
            ]
          },
          "metadata": {},
          "execution_count": 7
        }
      ]
    },
    {
      "cell_type": "code",
      "metadata": {
        "colab": {
          "base_uri": "https://localhost:8080/"
        },
        "id": "ahrrwOZvyDB3",
        "outputId": "6d6f8e71-7ac2-4c27-ee1e-f37d5afb7d34"
      },
      "source": [
        "np.ones(10)"
      ],
      "execution_count": null,
      "outputs": [
        {
          "output_type": "execute_result",
          "data": {
            "text/plain": [
              "array([1., 1., 1., 1., 1., 1., 1., 1., 1., 1.])"
            ]
          },
          "metadata": {},
          "execution_count": 8
        }
      ]
    },
    {
      "cell_type": "code",
      "metadata": {
        "colab": {
          "base_uri": "https://localhost:8080/"
        },
        "id": "bKBBZDHDyKnt",
        "outputId": "b2282650-e322-4b04-9f2a-ff0035ab9468"
      },
      "source": [
        "np.arange(0,10)"
      ],
      "execution_count": null,
      "outputs": [
        {
          "output_type": "execute_result",
          "data": {
            "text/plain": [
              "array([0, 1, 2, 3, 4, 5, 6, 7, 8, 9])"
            ]
          },
          "metadata": {},
          "execution_count": 9
        }
      ]
    },
    {
      "cell_type": "code",
      "metadata": {
        "colab": {
          "base_uri": "https://localhost:8080/"
        },
        "id": "B00cUGpXyPET",
        "outputId": "1d870f32-a13b-48fe-dabe-6fe1c98413ce"
      },
      "source": [
        "np.arange(0,10,2)"
      ],
      "execution_count": null,
      "outputs": [
        {
          "output_type": "execute_result",
          "data": {
            "text/plain": [
              "array([0, 2, 4, 6, 8])"
            ]
          },
          "metadata": {},
          "execution_count": 10
        }
      ]
    },
    {
      "cell_type": "code",
      "metadata": {
        "colab": {
          "base_uri": "https://localhost:8080/"
        },
        "id": "bwcioab0ybbo",
        "outputId": "30ee3944-b84e-477a-9161-e0ad1d89cef8"
      },
      "source": [
        "np.random.randint(low=1, high=101, size=(10))"
      ],
      "execution_count": null,
      "outputs": [
        {
          "output_type": "execute_result",
          "data": {
            "text/plain": [
              "array([58, 15, 49, 72, 62, 51,  4, 68, 67, 47])"
            ]
          },
          "metadata": {},
          "execution_count": 11
        }
      ]
    },
    {
      "cell_type": "code",
      "metadata": {
        "colab": {
          "base_uri": "https://localhost:8080/"
        },
        "id": "In7XIu4Jys3Z",
        "outputId": "300612e8-7173-4994-94d7-de232c898caa"
      },
      "source": [
        "np.random.random(10) "
      ],
      "execution_count": null,
      "outputs": [
        {
          "output_type": "execute_result",
          "data": {
            "text/plain": [
              "array([0.84993359, 0.51798265, 0.28793806, 0.06304832, 0.46509094,\n",
              "       0.51544882, 0.56747853, 0.1148981 , 0.52751612, 0.60142602])"
            ]
          },
          "metadata": {},
          "execution_count": 13
        }
      ]
    },
    {
      "cell_type": "code",
      "metadata": {
        "colab": {
          "base_uri": "https://localhost:8080/"
        },
        "id": "iGL3MjL8zeOd",
        "outputId": "de8371c4-fc22-4d3f-ae21-dd7f3da374a9"
      },
      "source": [
        "# Scale between 3 to 5\n",
        "np.random.random(10)*(5-3)+3"
      ],
      "execution_count": null,
      "outputs": [
        {
          "output_type": "execute_result",
          "data": {
            "text/plain": [
              "array([4.96130108, 3.8366504 , 3.88346679, 3.25660352, 4.86362136,\n",
              "       3.0168579 , 4.69233204, 4.01678198, 3.38208131, 4.91245235])"
            ]
          },
          "metadata": {},
          "execution_count": 17
        }
      ]
    },
    {
      "cell_type": "code",
      "metadata": {
        "id": "wW0BK9gi7x-E"
      },
      "source": [
        "#Generalize the above formula \n",
        "#Scale a random number, r generate between ra and rb to a random number between a and b. Assume b>a and rb>ra"
      ],
      "execution_count": null,
      "outputs": []
    },
    {
      "cell_type": "code",
      "metadata": {
        "id": "IdJCKVMMB76T"
      },
      "source": [
        "def loss(theta,X,y):\n",
        "    '''\n",
        "    Calculate loss.\n",
        "    Parameters:\n",
        "      X: Input array\n",
        "      y: Output array\n",
        "      theta: coefficients (weights)\n",
        "    Returns:\n",
        "      l: Loss \n",
        "    '''\n",
        "    # Calculating Loss\n",
        "    l = (1/2*len(y)) * np.sum(np.square((X.dot(theta))-y))  \n",
        "    return l\n"
      ],
      "execution_count": 1,
      "outputs": []
    },
    {
      "cell_type": "code",
      "metadata": {
        "id": "4qiYQ0D7pqCb"
      },
      "source": [
        "def gradient_descent(X,y,theta,alpha,iterations):\n",
        "    '''\n",
        "    Parameters:\n",
        "      X: Input matrix with added bias.\n",
        "      y: target variable matrix\n",
        "      theta: regression coefficients\n",
        "      alpha: learning rate\n",
        "      iteration: number of iteration to be run\n",
        "    Returns \n",
        "      theta: Updated theta\n",
        "      loss: Cost\n",
        "    '''\n",
        "    #Getting number of observations.\n",
        "    m = len(y)\n",
        "    \n",
        "    # Initializing loss and theta's arrays with zeroes.\n",
        "    thetas = np.zeros((iterations,2))\n",
        "    losses = np.zeros(iterations)\n",
        "    niter=None\n",
        "    # Calculating theta for every iteration.\n",
        "    for i in range(iterations):\n",
        "            theta = theta - (1/m)*alpha*(X.T.dot((X.dot(theta))-y))\n",
        "            thetas[i,:] = theta.T\n",
        "            newloss=loss(theta,X,y)\n",
        "            if i> 1:\n",
        "                tol=newloss-losses[i-1]\n",
        "                if abs(tol)<0.0001: \n",
        "                    niter=i\n",
        "                    break\n",
        "            losses[i] = newloss\n",
        "            \n",
        "    return theta,thetas,losses,niter\n"
      ],
      "execution_count": 78,
      "outputs": []
    },
    {
      "cell_type": "code",
      "metadata": {
        "colab": {
          "base_uri": "https://localhost:8080/",
          "height": 329
        },
        "id": "e08VMe96tKVn",
        "outputId": "a9dae428-b9ed-405e-c5ff-e9cce52b1642"
      },
      "source": [
        "import matplotlib.pyplot as plt\n",
        "# Generating Randomized dataset\n",
        "X = 3*np.random.rand(100,1)\n",
        "y = 9 + 2*X+np.random.rand(100,1)\n",
        "# Scatter plot\n",
        "plt.scatter(X,y)\n",
        "plt.xlabel('X')\n",
        "plt.ylabel('y')\n",
        "plt.title('X vs y')\n",
        "plt.figure(figsize=(15,25))"
      ],
      "execution_count": 79,
      "outputs": [
        {
          "output_type": "execute_result",
          "data": {
            "text/plain": [
              "<Figure size 1080x1800 with 0 Axes>"
            ]
          },
          "metadata": {},
          "execution_count": 79
        },
        {
          "output_type": "display_data",
          "data": {
            "image/png": "[encoded data removed]",
            "text/plain": [
              "<Figure size 432x288 with 1 Axes>"
            ]
          },
          "metadata": {
            "needs_background": "light"
          }
        },
        {
          "output_type": "display_data",
          "data": {
            "text/plain": [
              "<Figure size 1080x1800 with 0 Axes>"
            ]
          },
          "metadata": {}
        }
      ]
    },
    {
      "cell_type": "code",
      "metadata": {
        "id": "VGB-zmL9pswJ"
      },
      "source": [
        "# Learning Rate  # Change \n",
        "alpha = 0.4\n",
        "# Number of iterations  # Change the number \n",
        "max_iterations = 30000\n"
      ],
      "execution_count": 80,
      "outputs": []
    },
    {
      "cell_type": "code",
      "metadata": {
        "colab": {
          "base_uri": "https://localhost:8080/"
        },
        "id": "GicjGQl-uKp7",
        "outputId": "12f696dc-01d9-435e-b25b-fa47ddd0c38b"
      },
      "source": [
        "# Initializing a random value to give algorithm a base value. Theta0: bias (intercept) Theta1: weight (slope)\n",
        "theta = np.random.randn(2,1)\n",
        "print (theta)"
      ],
      "execution_count": 81,
      "outputs": [
        {
          "output_type": "stream",
          "name": "stdout",
          "text": [
            "[[ 0.07332808]\n",
            " [-1.17809403]]\n"
          ]
        }
      ]
    },
    {
      "cell_type": "code",
      "metadata": {
        "colab": {
          "base_uri": "https://localhost:8080/"
        },
        "id": "dSatP74usl39",
        "outputId": "addceff5-9c46-4571-c702-bfd5cc90bef3"
      },
      "source": [
        "# Adding a biasing constant of value 1 to the features array.\n",
        "X_bias = np.c_[np.ones((len(X),1)),X]\n",
        "# Running Gradient Descent\n",
        "theta,thetas,losses,niter = gradient_descent(X_bias,y,theta,alpha,max_iterations)\n",
        "# printing final values.\n",
        "print('Final Theta 0 value: {:0.3f}\\nFinal Theta 1 value: {:0.3f}'.format(theta[0][0],theta[1][0]))\n",
        "print('Final Cost/MSE(L2 Loss) Value: {:0.3f} acheived in {:5f}'.format(losses[-1],niter))"
      ],
      "execution_count": 82,
      "outputs": [
        {
          "output_type": "stream",
          "name": "stdout",
          "text": [
            "Final Theta 0 value: 9.410\n",
            "Final Theta 1 value: 2.040\n",
            "Final Cost/MSE(L2 Loss) Value: 0.000 acheived in 110.000000\n"
          ]
        }
      ]
    }
  ]
}