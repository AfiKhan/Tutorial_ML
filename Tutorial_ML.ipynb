{
  "nbformat": 4,
  "nbformat_minor": 0,
  "metadata": {
    "colab": {
      "name": "Untitled2.ipynb",
      "provenance": [],
      "authorship_tag": "ABX9TyNarow6UHc6HJtwuL1jO01G",
      "include_colab_link": true
    },
    "kernelspec": {
      "name": "python3",
      "display_name": "Python 3"
    },
    "language_info": {
      "name": "python"
    }
  },
  "cells": [
    {
      "cell_type": "markdown",
      "metadata": {
        "id": "view-in-github",
        "colab_type": "text"
      },
      "source": [
        "<a href=\"https://colab.research.google.com/github/anmolecule/Tutorial_ML/blob/main/Tutorial_ML.ipynb\" target=\"_parent\"><img src=\"https://colab.research.google.com/assets/colab-badge.svg\" alt=\"Open In Colab\"/></a>"
      ]
    },
    {
      "cell_type": "code",
      "metadata": {
        "id": "A9dvdF5xw91t"
      },
      "source": [
        "import numpy as np\n",
        "import pandas as pd"
      ],
      "execution_count": 1,
      "outputs": []
    },
    {
      "cell_type": "code",
      "metadata": {
        "colab": {
          "base_uri": "https://localhost:8080/"
        },
        "id": "1WOS81u1xEaj",
        "outputId": "f4cf7088-f782-4ed8-864f-b6da5dcd7567"
      },
      "source": [
        "arr=[1.2, 2.4, 3.5, 4.7, 6.1, 7.2, 8.3, 9.5]\n",
        "nparr=np.array(arr)\n",
        "nparr"
      ],
      "execution_count": 3,
      "outputs": [
        {
          "output_type": "execute_result",
          "data": {
            "text/plain": [
              "array([1.2, 2.4, 3.5, 4.7, 6.1, 7.2, 8.3, 9.5])"
            ]
          },
          "metadata": {},
          "execution_count": 3
        }
      ]
    },
    {
      "cell_type": "code",
      "metadata": {
        "colab": {
          "base_uri": "https://localhost:8080/"
        },
        "id": "3CwiBs2UxU4d",
        "outputId": "5db15cc2-45d3-413c-aa71-97955bb6f51a"
      },
      "source": [
        "brr=[[6, 5], [11, 7], [4, 8]]\n",
        "npbrr=np.array(brr)\n",
        "npbrr"
      ],
      "execution_count": 4,
      "outputs": [
        {
          "output_type": "execute_result",
          "data": {
            "text/plain": [
              "array([[ 6,  5],\n",
              "       [11,  7],\n",
              "       [ 4,  8]])"
            ]
          },
          "metadata": {},
          "execution_count": 4
        }
      ]
    },
    {
      "cell_type": "code",
      "metadata": {
        "colab": {
          "base_uri": "https://localhost:8080/"
        },
        "id": "EOZvayhhxo4i",
        "outputId": "fe4669c8-ec55-416e-f4e3-1492a32aa492"
      },
      "source": [
        "np.zeros(10)"
      ],
      "execution_count": 5,
      "outputs": [
        {
          "output_type": "execute_result",
          "data": {
            "text/plain": [
              "array([0., 0., 0., 0., 0., 0., 0., 0., 0., 0.])"
            ]
          },
          "metadata": {},
          "execution_count": 5
        }
      ]
    },
    {
      "cell_type": "code",
      "metadata": {
        "colab": {
          "base_uri": "https://localhost:8080/"
        },
        "id": "P34qJpfFx2fB",
        "outputId": "654137ea-9693-4514-88fc-b5cfd02f0eb0"
      },
      "source": [
        "np.zeros((3,2))"
      ],
      "execution_count": 7,
      "outputs": [
        {
          "output_type": "execute_result",
          "data": {
            "text/plain": [
              "array([[0., 0.],\n",
              "       [0., 0.],\n",
              "       [0., 0.]])"
            ]
          },
          "metadata": {},
          "execution_count": 7
        }
      ]
    },
    {
      "cell_type": "code",
      "metadata": {
        "colab": {
          "base_uri": "https://localhost:8080/"
        },
        "id": "ahrrwOZvyDB3",
        "outputId": "6d6f8e71-7ac2-4c27-ee1e-f37d5afb7d34"
      },
      "source": [
        "np.ones(10)"
      ],
      "execution_count": 8,
      "outputs": [
        {
          "output_type": "execute_result",
          "data": {
            "text/plain": [
              "array([1., 1., 1., 1., 1., 1., 1., 1., 1., 1.])"
            ]
          },
          "metadata": {},
          "execution_count": 8
        }
      ]
    },
    {
      "cell_type": "code",
      "metadata": {
        "colab": {
          "base_uri": "https://localhost:8080/"
        },
        "id": "bKBBZDHDyKnt",
        "outputId": "b2282650-e322-4b04-9f2a-ff0035ab9468"
      },
      "source": [
        "np.arange(0,10)"
      ],
      "execution_count": 9,
      "outputs": [
        {
          "output_type": "execute_result",
          "data": {
            "text/plain": [
              "array([0, 1, 2, 3, 4, 5, 6, 7, 8, 9])"
            ]
          },
          "metadata": {},
          "execution_count": 9
        }
      ]
    },
    {
      "cell_type": "code",
      "metadata": {
        "colab": {
          "base_uri": "https://localhost:8080/"
        },
        "id": "B00cUGpXyPET",
        "outputId": "1d870f32-a13b-48fe-dabe-6fe1c98413ce"
      },
      "source": [
        "np.arange(0,10,2)"
      ],
      "execution_count": 10,
      "outputs": [
        {
          "output_type": "execute_result",
          "data": {
            "text/plain": [
              "array([0, 2, 4, 6, 8])"
            ]
          },
          "metadata": {},
          "execution_count": 10
        }
      ]
    },
    {
      "cell_type": "code",
      "metadata": {
        "colab": {
          "base_uri": "https://localhost:8080/"
        },
        "id": "bwcioab0ybbo",
        "outputId": "30ee3944-b84e-477a-9161-e0ad1d89cef8"
      },
      "source": [
        "np.random.randint(low=1, high=101, size=(10))"
      ],
      "execution_count": 11,
      "outputs": [
        {
          "output_type": "execute_result",
          "data": {
            "text/plain": [
              "array([58, 15, 49, 72, 62, 51,  4, 68, 67, 47])"
            ]
          },
          "metadata": {},
          "execution_count": 11
        }
      ]
    },
    {
      "cell_type": "code",
      "metadata": {
        "colab": {
          "base_uri": "https://localhost:8080/"
        },
        "id": "In7XIu4Jys3Z",
        "outputId": "300612e8-7173-4994-94d7-de232c898caa"
      },
      "source": [
        "np.random.random(10) "
      ],
      "execution_count": 13,
      "outputs": [
        {
          "output_type": "execute_result",
          "data": {
            "text/plain": [
              "array([0.84993359, 0.51798265, 0.28793806, 0.06304832, 0.46509094,\n",
              "       0.51544882, 0.56747853, 0.1148981 , 0.52751612, 0.60142602])"
            ]
          },
          "metadata": {},
          "execution_count": 13
        }
      ]
    },
    {
      "cell_type": "code",
      "metadata": {
        "colab": {
          "base_uri": "https://localhost:8080/"
        },
        "id": "iGL3MjL8zeOd",
        "outputId": "de8371c4-fc22-4d3f-ae21-dd7f3da374a9"
      },
      "source": [
        "# Scale between 3 to 5\n",
        "np.random.random(10)*(5-3)+3"
      ],
      "execution_count": 17,
      "outputs": [
        {
          "output_type": "execute_result",
          "data": {
            "text/plain": [
              "array([4.96130108, 3.8366504 , 3.88346679, 3.25660352, 4.86362136,\n",
              "       3.0168579 , 4.69233204, 4.01678198, 3.38208131, 4.91245235])"
            ]
          },
          "metadata": {},
          "execution_count": 17
        }
      ]
    },
    {
      "cell_type": "code",
      "metadata": {
        "id": "wW0BK9gi7x-E"
      },
      "source": [
        "#Generalize the above formula \n",
        "#Scale a random number, r generate between ra and rb to a random number between a and b. Assume b>a and rb>ra"
      ],
      "execution_count": 18,
      "outputs": []
    }
  ]
}